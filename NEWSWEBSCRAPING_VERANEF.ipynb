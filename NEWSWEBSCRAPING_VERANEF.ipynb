{
  "nbformat": 4,
  "nbformat_minor": 0,
  "metadata": {
    "colab": {
      "provenance": [],
      "authorship_tag": "ABX9TyNgNLRWa9jfN/aPovXyxAjq",
      "include_colab_link": true
    },
    "kernelspec": {
      "name": "python3",
      "display_name": "Python 3"
    },
    "language_info": {
      "name": "python"
    }
  },
  "cells": [
    {
      "cell_type": "markdown",
      "metadata": {
        "id": "view-in-github",
        "colab_type": "text"
      },
      "source": [
        "<a href=\"https://colab.research.google.com/github/VerFabiola/Math-509-test/blob/main/NEWSWEBSCRAPING_VERANEF.ipynb\" target=\"_parent\"><img src=\"https://colab.research.google.com/assets/colab-badge.svg\" alt=\"Open In Colab\"/></a>"
      ]
    },
    {
      "cell_type": "code",
      "execution_count": 21,
      "metadata": {
        "colab": {
          "base_uri": "https://localhost:8080/"
        },
        "id": "GOYDSlDSNmnK",
        "outputId": "81c03ed0-6beb-4abf-d2ba-583d092505c3"
      },
      "outputs": [
        {
          "output_type": "stream",
          "name": "stdout",
          "text": [
            "Requirement already satisfied: requests in /usr/local/lib/python3.11/dist-packages (2.32.3)\n",
            "Requirement already satisfied: beautifulsoup4 in /usr/local/lib/python3.11/dist-packages (4.13.3)\n",
            "Requirement already satisfied: pandas in /usr/local/lib/python3.11/dist-packages (2.2.2)\n",
            "Requirement already satisfied: charset-normalizer<4,>=2 in /usr/local/lib/python3.11/dist-packages (from requests) (3.4.1)\n",
            "Requirement already satisfied: idna<4,>=2.5 in /usr/local/lib/python3.11/dist-packages (from requests) (3.10)\n",
            "Requirement already satisfied: urllib3<3,>=1.21.1 in /usr/local/lib/python3.11/dist-packages (from requests) (2.3.0)\n",
            "Requirement already satisfied: certifi>=2017.4.17 in /usr/local/lib/python3.11/dist-packages (from requests) (2025.1.31)\n",
            "Requirement already satisfied: soupsieve>1.2 in /usr/local/lib/python3.11/dist-packages (from beautifulsoup4) (2.6)\n",
            "Requirement already satisfied: typing-extensions>=4.0.0 in /usr/local/lib/python3.11/dist-packages (from beautifulsoup4) (4.12.2)\n",
            "Requirement already satisfied: numpy>=1.23.2 in /usr/local/lib/python3.11/dist-packages (from pandas) (1.26.4)\n",
            "Requirement already satisfied: python-dateutil>=2.8.2 in /usr/local/lib/python3.11/dist-packages (from pandas) (2.8.2)\n",
            "Requirement already satisfied: pytz>=2020.1 in /usr/local/lib/python3.11/dist-packages (from pandas) (2025.1)\n",
            "Requirement already satisfied: tzdata>=2022.7 in /usr/local/lib/python3.11/dist-packages (from pandas) (2025.1)\n",
            "Requirement already satisfied: six>=1.5 in /usr/local/lib/python3.11/dist-packages (from python-dateutil>=2.8.2->pandas) (1.17.0)\n"
          ]
        }
      ],
      "source": [
        "pip install requests beautifulsoup4 pandas"
      ]
    },
    {
      "cell_type": "markdown",
      "source": [
        "#WEBSCRAPING FROM DIFFERENTS NEWS ARTICLES (28)"
      ],
      "metadata": {
        "id": "lExXc4pOjlVU"
      }
    },
    {
      "cell_type": "code",
      "source": [
        "import requests\n",
        "from bs4 import BeautifulSoup\n",
        "import csv\n",
        "import time\n",
        "import random\n",
        "\n",
        "# List of article URLs to scrape\n",
        "article_urls = [\n",
        "    'https://www.brookings.edu/articles/how-artificial-intelligence-will-affect-the-future-of-energy-and-climate/',\n",
        "    'https://www.theguardian.com/environment/2025/feb/18/early-warning-system-for-climate-tipping-points-given-81m-kickstart?utm_source=chatgpt.com',\n",
        "    'https://news.mit.edu/2025/explained-generative-ai-environmental-impact-0117',\n",
        "    'https://www.cnn.com/2024/07/03/tech/google-ai-greenhouse-gas-emissions-environmental-impact/index.html',\n",
        "    'https://www.techpolicy.press/hope-the-ai-acts-approach-to-address-the-environmental-impact-of-ai/',\n",
        "    'https://www.mckinsey.com/capabilities/quantumblack/our-insights/ai-for-social-good',\n",
        "    'https://www.bbc.com/news/articles/c51yvz51k2xo',\n",
        "    'https://www.theguardian.com/commentisfree/2023/dec/23/ai-chat-gpt-environmental-impact-energy-carbon-intensive-technology',\n",
        "    'https://www.theguardian.com/technology/article/2024/jul/07/how-ai-is-helping-us-tackle-the-climate-crisis',\n",
        "    'https://medium.com/towards-data-science/environmental-implications-of-the-ai-boom-279300a24184',\n",
        "    'https://novaqore.medium.com/the-hidden-cost-of-ai-environmental-impact-and-sustainable-solutions-4e3641c5c25c',\n",
        "    'https://www.bbc.com/news/science-environment-65913940',\n",
        "    'https://www.forbes.com/sites/cindygordon/2024/02/25/ai-is-accelerating-the-loss-of-our-scarcest-natural-resource-water/',\n",
        "    'https://www.techtarget.com/searchDataCenter/feature/How-the-rise-in-AI-impacts-data-centers-and-the-environment',\n",
        "    'https://blog.emb.global/ai-energy-consumption-eco-impact-for-sustainable-innovation/#q-what-are-the-environmental-concerns-related-to-ai-energy-usage',\n",
        "    'https://www.msn.com/en-us/technology/artificial-intelligence/the-false-ai-energy-crisis/ar-AA1yQz7S?ocid=BingNewsSerp',\n",
        "    'https://climate.mit.edu/ask-mit/ais-energy-use-big-problem-climate-change',\n",
        "    'https://www.lse.ac.uk/granthaminstitute/explainers/what-opportunities-and-risks-does-ai-present-for-climate-action/',\n",
        "    'https://www.nature.com/articles/s42256-020-0219-9',\n",
        "    'https://planetdetroit.org/2024/10/ai-energy-carbon-emissions/',\n",
        "    'https://www.snopes.com/news/2025/01/16/ai-environment-carbon-footprint/',\n",
        "    'https://climate.mit.edu/ask-mit/ais-energy-use-big-problem-climate-change',\n",
        "    'https://www.eolianenergy.com/press/ai-is-exhausting-the-power-grid-tech-firms-are-seeking-a-miracle-solution',\n",
        "    'https://cpen.ai/amazon-google-and-microsoft-turn-to-nuclear-power-for-ai-energy-needs/',\n",
        "    'https://globalnews.ca/news/11011068/trudeau-paris-artificial-intelligence-summit/',\n",
        "    'https://www.pressreader.com/',\n",
        "    'https://www.scientificamerican.com/article/ais-climate-impact-goes-beyond-its-emissions/',\n",
        "    'https://ca.news.yahoo.com/alberta-wants-build-huge-data-162403947.html?guccounter=1&guce_referrer=aHR0cHM6Ly93d3cuYmluZy5jb20v&guce_referrer_sig=AQAAADgyIDMyKLkU_JBqT_UwN91LltiL0UhN9UIA9J_D_CzbRl2dpE8lLrpPJdxelmfE0jV1fK7_8KnvwFfdUobZegu827ltTzwpn7IPV4Dm5KSGCxS4yjkR3NPU2MGvEuoSdx1jJvi-dVXAoal9BGtAgNh4TfrMf9j7R7VYMorGPGOx'\n",
        "\n",
        "]\n",
        "\n",
        "# Rotating user agents to reduce blocking\n",
        "USER_AGENTS = [\n",
        "    \"Mozilla/5.0 (Windows NT 10.0; Win64; x64) AppleWebKit/537.36 (KHTML, like Gecko) Chrome/119.0.0.0 Safari/537.36\",\n",
        "    \"Mozilla/5.0 (Macintosh; Intel Mac OS X 10_15_7) AppleWebKit/537.36 (KHTML, like Gecko) Chrome/118.0.0.0 Safari/537.36\",\n",
        "    \"Mozilla/5.0 (X11; Linux x86_64) AppleWebKit/537.36 (KHTML, like Gecko) Chrome/117.0.0.0 Safari/537.36\"\n",
        "]\n",
        "\n",
        "# Function to scrape article data and write it to CSV\n",
        "def scrape_and_save_article(url, csv_writer):\n",
        "    headers = {\n",
        "        \"User-Agent\": random.choice(USER_AGENTS),\n",
        "        \"Referer\": \"https://www.google.com/\",\n",
        "        \"Accept-Language\": \"en-US,en;q=0.9\"\n",
        "    }\n",
        "\n",
        "    try:\n",
        "        response = requests.get(url, headers=headers, timeout=10)\n",
        "        response.raise_for_status()  # Raises exception for HTTP errors (4xx or 5xx)\n",
        "\n",
        "        soup = BeautifulSoup(response.text, 'html.parser')\n",
        "\n",
        "        # Extract title, content, date (adjust selectors as needed)\n",
        "        title = soup.find('h1')\n",
        "        title = title.text.strip() if title else \"No title found\"\n",
        "\n",
        "        content = soup.find('div', class_='article-body') or soup.find('article') or soup.find('div', class_='content')\n",
        "        content = content.text.strip() if content else \"No content found\"\n",
        "\n",
        "        date = soup.find('time')\n",
        "        date = date.text.strip() if date else \"No date found\"\n",
        "\n",
        "        # Write the article data to the CSV file\n",
        "        csv_writer.writerow([title, content, date, url])\n",
        "        print(f\"Scraped: {url}\")\n",
        "    except requests.RequestException as e:\n",
        "        print(f\"Error scraping {url}: {e}\")\n",
        "\n",
        "# Open CSV file in write mode\n",
        "with open('cbc_scraped_articles.csv', 'w', newline='', encoding='utf-8') as csvfile:\n",
        "    csv_writer = csv.writer(csvfile)\n",
        "    csv_writer.writerow(['title', 'content', 'date', 'url'])  # Write header\n",
        "\n",
        "    # Loop through each article URL and scrape them one by one\n",
        "    for url in article_urls:\n",
        "        scrape_and_save_article(url, csv_writer)\n",
        "        time.sleep(random.uniform(2, 5))  # Random sleep to avoid detection\n",
        "\n",
        "print(\"Finished scraping all articles.\")"
      ],
      "metadata": {
        "colab": {
          "base_uri": "https://localhost:8080/"
        },
        "id": "k8a93OVAVm2f",
        "outputId": "5ae6da35-2480-43a6-e931-a46159afe5d2"
      },
      "execution_count": 36,
      "outputs": [
        {
          "output_type": "stream",
          "name": "stdout",
          "text": [
            "Scraped: https://www.brookings.edu/articles/how-artificial-intelligence-will-affect-the-future-of-energy-and-climate/\n",
            "Scraped: https://www.theguardian.com/environment/2025/feb/18/early-warning-system-for-climate-tipping-points-given-81m-kickstart?utm_source=chatgpt.com\n",
            "Scraped: https://news.mit.edu/2025/explained-generative-ai-environmental-impact-0117\n",
            "Scraped: https://www.cnn.com/2024/07/03/tech/google-ai-greenhouse-gas-emissions-environmental-impact/index.html\n",
            "Scraped: https://www.techpolicy.press/hope-the-ai-acts-approach-to-address-the-environmental-impact-of-ai/\n",
            "Scraped: https://www.mckinsey.com/capabilities/quantumblack/our-insights/ai-for-social-good\n",
            "Scraped: https://www.bbc.com/news/articles/c51yvz51k2xo\n",
            "Scraped: https://www.theguardian.com/commentisfree/2023/dec/23/ai-chat-gpt-environmental-impact-energy-carbon-intensive-technology\n",
            "Scraped: https://www.theguardian.com/technology/article/2024/jul/07/how-ai-is-helping-us-tackle-the-climate-crisis\n",
            "Scraped: https://medium.com/towards-data-science/environmental-implications-of-the-ai-boom-279300a24184\n",
            "Scraped: https://novaqore.medium.com/the-hidden-cost-of-ai-environmental-impact-and-sustainable-solutions-4e3641c5c25c\n",
            "Scraped: https://www.bbc.com/news/science-environment-65913940\n",
            "Scraped: https://www.forbes.com/sites/cindygordon/2024/02/25/ai-is-accelerating-the-loss-of-our-scarcest-natural-resource-water/\n",
            "Scraped: https://www.techtarget.com/searchDataCenter/feature/How-the-rise-in-AI-impacts-data-centers-and-the-environment\n",
            "Scraped: https://blog.emb.global/ai-energy-consumption-eco-impact-for-sustainable-innovation/#q-what-are-the-environmental-concerns-related-to-ai-energy-usage\n",
            "Scraped: https://www.msn.com/en-us/technology/artificial-intelligence/the-false-ai-energy-crisis/ar-AA1yQz7S?ocid=BingNewsSerp\n",
            "Scraped: https://climate.mit.edu/ask-mit/ais-energy-use-big-problem-climate-change\n",
            "Scraped: https://www.lse.ac.uk/granthaminstitute/explainers/what-opportunities-and-risks-does-ai-present-for-climate-action/\n",
            "Scraped: https://www.nature.com/articles/s42256-020-0219-9\n",
            "Scraped: https://planetdetroit.org/2024/10/ai-energy-carbon-emissions/\n",
            "Scraped: https://www.snopes.com/news/2025/01/16/ai-environment-carbon-footprint/\n",
            "Scraped: https://climate.mit.edu/ask-mit/ais-energy-use-big-problem-climate-change\n",
            "Scraped: https://www.eolianenergy.com/press/ai-is-exhausting-the-power-grid-tech-firms-are-seeking-a-miracle-solution\n",
            "Error scraping https://cpen.ai/amazon-google-and-microsoft-turn-to-nuclear-power-for-ai-energy-needs/: 403 Client Error: Forbidden for url: https://cpen.ai/amazon-google-and-microsoft-turn-to-nuclear-power-for-ai-energy-needs/\n",
            "Scraped: https://globalnews.ca/news/11011068/trudeau-paris-artificial-intelligence-summit/\n",
            "Scraped: https://www.pressreader.com/\n",
            "Scraped: https://www.scientificamerican.com/article/ais-climate-impact-goes-beyond-its-emissions/\n",
            "Scraped: https://ca.news.yahoo.com/alberta-wants-build-huge-data-162403947.html?guccounter=1&guce_referrer=aHR0cHM6Ly93d3cuYmluZy5jb20v&guce_referrer_sig=AQAAADgyIDMyKLkU_JBqT_UwN91LltiL0UhN9UIA9J_D_CzbRl2dpE8lLrpPJdxelmfE0jV1fK7_8KnvwFfdUobZegu827ltTzwpn7IPV4Dm5KSGCxS4yjkR3NPU2MGvEuoSdx1jJvi-dVXAoal9BGtAgNh4TfrMf9j7R7VYMorGPGOx\n",
            "Finished scraping all articles.\n"
          ]
        }
      ]
    },
    {
      "cell_type": "markdown",
      "source": [
        "#DATA PREPROCESSING\n",
        "#Number of articles went down to 22 in this process\n",
        "\n",
        "- Remove Duplicates & Handle Missing Values\n",
        "-Removing special characters, numbers, and excessive whitespace\n",
        "\n",
        "- Converting text to lowercase\n",
        "\n",
        "- Removing stopwords (common words like \"the\", \"is\", \"and\")\n",
        "\n",
        "- Tokenization (splitting text into words)\n",
        "\n"
      ],
      "metadata": {
        "id": "EOu8Y-2Gje6Z"
      }
    },
    {
      "cell_type": "code",
      "source": [
        "import pandas as pd\n",
        "\n",
        "# Load the scraped articles CSV file\n",
        "df = pd.read_csv('cbc_scraped_articles.csv')\n",
        "print(df.head())"
      ],
      "metadata": {
        "colab": {
          "base_uri": "https://localhost:8080/"
        },
        "id": "l0vgUdgB7xS3",
        "outputId": "2e40bcd8-a238-4808-b1c1-c5659a7fac2a"
      },
      "execution_count": 39,
      "outputs": [
        {
          "output_type": "stream",
          "name": "stdout",
          "text": [
            "<class 'pandas.core.frame.DataFrame'>\n",
            "RangeIndex: 27 entries, 0 to 26\n",
            "Data columns (total 4 columns):\n",
            " #   Column   Non-Null Count  Dtype \n",
            "---  ------   --------------  ----- \n",
            " 0   title    27 non-null     object\n",
            " 1   content  27 non-null     object\n",
            " 2   date     27 non-null     object\n",
            " 3   url      27 non-null     object\n",
            "dtypes: object(4)\n",
            "memory usage: 996.0+ bytes\n",
            "None\n"
          ]
        }
      ]
    },
    {
      "cell_type": "code",
      "source": [
        "# Remove duplicate articles\n",
        "df.drop_duplicates(subset=['title', 'content', 'url'], inplace=True)\n",
        "\n",
        "# Remove rows where content is missing\n",
        "df = df[df['content'] != 'No content found']\n",
        "\n",
        "# Fill missing dates with 'Unknown'\n",
        "df['date'].fillna('Unknown', inplace=True)\n",
        "\n",
        "print(df.info())  # Check the cleaned dataset"
      ],
      "metadata": {
        "colab": {
          "base_uri": "https://localhost:8080/"
        },
        "id": "OfLfxfD28xcj",
        "outputId": "9d0ccf69-b70f-4a25-8aaf-910d5066be3a"
      },
      "execution_count": 40,
      "outputs": [
        {
          "output_type": "stream",
          "name": "stdout",
          "text": [
            "<class 'pandas.core.frame.DataFrame'>\n",
            "Index: 22 entries, 0 to 26\n",
            "Data columns (total 4 columns):\n",
            " #   Column   Non-Null Count  Dtype \n",
            "---  ------   --------------  ----- \n",
            " 0   title    22 non-null     object\n",
            " 1   content  22 non-null     object\n",
            " 2   date     22 non-null     object\n",
            " 3   url      22 non-null     object\n",
            "dtypes: object(4)\n",
            "memory usage: 880.0+ bytes\n",
            "None\n"
          ]
        },
        {
          "output_type": "stream",
          "name": "stderr",
          "text": [
            "<ipython-input-40-b8d9abff75a8>:8: FutureWarning: A value is trying to be set on a copy of a DataFrame or Series through chained assignment using an inplace method.\n",
            "The behavior will change in pandas 3.0. This inplace method will never work because the intermediate object on which we are setting values always behaves as a copy.\n",
            "\n",
            "For example, when doing 'df[col].method(value, inplace=True)', try using 'df.method({col: value}, inplace=True)' or df[col] = df[col].method(value) instead, to perform the operation inplace on the original object.\n",
            "\n",
            "\n",
            "  df['date'].fillna('Unknown', inplace=True)\n",
            "<ipython-input-40-b8d9abff75a8>:8: SettingWithCopyWarning: \n",
            "A value is trying to be set on a copy of a slice from a DataFrame\n",
            "\n",
            "See the caveats in the documentation: https://pandas.pydata.org/pandas-docs/stable/user_guide/indexing.html#returning-a-view-versus-a-copy\n",
            "  df['date'].fillna('Unknown', inplace=True)\n"
          ]
        }
      ]
    },
    {
      "cell_type": "code",
      "source": [
        "import re\n",
        "import nltk\n",
        "from nltk.corpus import stopwords\n",
        "from nltk.tokenize import word_tokenize\n",
        "\n",
        "# Download necessary NLTK data\n",
        "nltk.download('stopwords')\n",
        "nltk.download('punkt_tab')\n",
        "\n",
        "# Define stopwords\n",
        "stop_words = set(stopwords.words('english'))\n",
        "\n",
        "def clean_text(text):\n",
        "    # Remove special characters, numbers, and extra spaces\n",
        "    text = re.sub(r'[^a-zA-Z\\s]', '', text)\n",
        "    text = text.lower()  # Convert to lowercase\n",
        "    words = word_tokenize(text)  # Tokenize\n",
        "    words = [word for word in words if word not in stop_words]  # Remove stopwords\n",
        "    return \" \".join(words)\n",
        "\n",
        "# Apply text cleaning to the content column\n",
        "df['cleaned_content'] = df['content'].apply(clean_text)\n",
        "\n",
        "# Show the first few cleaned articles\n",
        "print(df[['cleaned_content']].head())\n"
      ],
      "metadata": {
        "colab": {
          "base_uri": "https://localhost:8080/"
        },
        "id": "7cNHngnp0tng",
        "outputId": "de409bde-e06a-468d-dbf9-3452f05c97ce"
      },
      "execution_count": 42,
      "outputs": [
        {
          "output_type": "stream",
          "name": "stderr",
          "text": [
            "[nltk_data] Downloading package stopwords to /root/nltk_data...\n",
            "[nltk_data]   Package stopwords is already up-to-date!\n",
            "[nltk_data] Downloading package punkt_tab to /root/nltk_data...\n",
            "[nltk_data]   Unzipping tokenizers/punkt_tab.zip.\n"
          ]
        },
        {
          "output_type": "stream",
          "name": "stdout",
          "text": [
            "                                     cleaned_content\n",
            "0  us foreign assistance data must stay public ca...\n",
            "1  one tipping point thought high risk triggered ...\n",
            "2  rapid development deployment powerful generati...\n",
            "3  google bay view campus mountain view californi...\n",
            "6  ai drives increase google emissions july imran...\n"
          ]
        }
      ]
    },
    {
      "cell_type": "code",
      "source": [
        "df.to_csv('preprocessed_articles.csv', index=False)\n",
        "print(\"Preprocessed data saved successfully.\")\n"
      ],
      "metadata": {
        "colab": {
          "base_uri": "https://localhost:8080/"
        },
        "id": "wOPtHh6Xt2_B",
        "outputId": "a8ef67d8-46f7-408d-c352-65315bd0ff55"
      },
      "execution_count": 43,
      "outputs": [
        {
          "output_type": "stream",
          "name": "stdout",
          "text": [
            "Preprocessed data saved successfully.\n"
          ]
        }
      ]
    },
    {
      "cell_type": "markdown",
      "source": [
        "#SENTIMENT ANALYSIS\n",
        "I used VADER in this process"
      ],
      "metadata": {
        "id": "5V585z3DCI7n"
      }
    },
    {
      "cell_type": "code",
      "source": [
        "import pandas as pd\n",
        "import nltk\n",
        "from nltk.sentiment import SentimentIntensityAnalyzer\n",
        "\n",
        "# Download VADER lexicon\n",
        "nltk.download('vader_lexicon')\n",
        "\n",
        "# Initialize VADER Sentiment Analyzer\n",
        "sia = SentimentIntensityAnalyzer()\n"
      ],
      "metadata": {
        "colab": {
          "base_uri": "https://localhost:8080/"
        },
        "id": "2LuM3MwMp9ed",
        "outputId": "8c597435-fd1a-4f6e-d016-d06bbae9dd47"
      },
      "execution_count": 44,
      "outputs": [
        {
          "output_type": "stream",
          "name": "stderr",
          "text": [
            "[nltk_data] Downloading package vader_lexicon to /root/nltk_data...\n"
          ]
        }
      ]
    },
    {
      "cell_type": "code",
      "source": [
        "# Load preprocessed articles\n",
        "df = pd.read_csv('preprocessed_articles.csv')\n",
        "\n",
        "# Display a preview\n",
        "print(df.head())\n"
      ],
      "metadata": {
        "colab": {
          "base_uri": "https://localhost:8080/"
        },
        "id": "ZSzHrbpCVh8t",
        "outputId": "1dd2efbb-7b96-420a-ad6a-bdc33a8b72e2"
      },
      "execution_count": 45,
      "outputs": [
        {
          "output_type": "stream",
          "name": "stdout",
          "text": [
            "                                               title  \\\n",
            "0  How artificial intelligence will affect the fu...   \n",
            "1  Early warning system for climate tipping point...   \n",
            "2    Explained: Generative AI’s environmental impact   \n",
            "3  Google’s greenhouse gas emissions are soaring ...   \n",
            "4         AI drives 48% increase in Google emissions   \n",
            "\n",
            "                                             content              date  \\\n",
            "0  Why US foreign assistance data must stay publi...     No date found   \n",
            "1  One tipping point thought to be at very high r...     No date found   \n",
            "2  Rapid development and deployment of powerful g...  January 17, 2025   \n",
            "3  The Google Bay View campus in Mountain View, C...     No date found   \n",
            "4  AI drives 48% increase in Google emissions3 Ju...       3 July 2024   \n",
            "\n",
            "                                                 url  \\\n",
            "0  https://www.brookings.edu/articles/how-artific...   \n",
            "1  https://www.theguardian.com/environment/2025/f...   \n",
            "2  https://news.mit.edu/2025/explained-generative...   \n",
            "3  https://www.cnn.com/2024/07/03/tech/google-ai-...   \n",
            "4     https://www.bbc.com/news/articles/c51yvz51k2xo   \n",
            "\n",
            "                                     cleaned_content  \n",
            "0  us foreign assistance data must stay public ca...  \n",
            "1  one tipping point thought high risk triggered ...  \n",
            "2  rapid development deployment powerful generati...  \n",
            "3  google bay view campus mountain view californi...  \n",
            "4  ai drives increase google emissions july imran...  \n"
          ]
        }
      ]
    },
    {
      "cell_type": "code",
      "source": [
        "# Function to get sentiment scores\n",
        "def get_vader_sentiment(text):\n",
        "    scores = sia.polarity_scores(text)\n",
        "    return scores['compound']  # Using compound score for overall sentiment\n",
        "\n",
        "# Apply sentiment analysis\n",
        "df['vader_sentiment'] = df['cleaned_content'].apply(get_vader_sentiment)\n",
        "\n",
        "# Classify sentiment\n",
        "df['sentiment_label'] = df['vader_sentiment'].apply(lambda x: 'Positive' if x > 0.05 else ('Negative' if x < -0.05 else 'Neutral'))\n",
        "\n",
        "# Show results\n",
        "print(df[['cleaned_content', 'vader_sentiment', 'sentiment_label']])\n"
      ],
      "metadata": {
        "colab": {
          "base_uri": "https://localhost:8080/"
        },
        "collapsed": true,
        "id": "kZcdAaa4Chz1",
        "outputId": "c187e89a-2640-4706-d0e0-4cf06f52da46"
      },
      "execution_count": 47,
      "outputs": [
        {
          "output_type": "stream",
          "name": "stdout",
          "text": [
            "                                      cleaned_content  vader_sentiment  \\\n",
            "0   us foreign assistance data must stay public ca...           0.0000   \n",
            "1   one tipping point thought high risk triggered ...          -0.2591   \n",
            "2   rapid development deployment powerful generati...           0.9980   \n",
            "3   google bay view campus mountain view californi...           0.9843   \n",
            "4   ai drives increase google emissions july imran...           0.9815   \n",
            "5   carbon footprint server farms used power gener...           0.5921   \n",
            "6   ai unlock significant decarbonisation opportun...           0.9941   \n",
            "7   environmental implications ai boomthe digital ...           0.9984   \n",
            "8   hidden cost ai environmental impact sustainabl...           0.9965   \n",
            "9   ai stop water pollution happens june jonah fis...           0.9957   \n",
            "10  water resource rapidly depleting ai accelerati...           0.3818   \n",
            "11  putilovdenis stockadobecom feature article par...           0.9991   \n",
            "12  technology ai energy consumption ecoimpact sus...           0.9999   \n",
            "13  question ask us ask mit climateis ais energy u...           0.9995   \n",
            "14  home explainers international action climate c...           0.9988   \n",
            "15  news feature published august carbon impact ar...           0.9678   \n",
            "16  tension ai climate growing google data center ...           0.9986   \n",
            "17  training using artificial intelligence consume...           0.9972   \n",
            "18  ai exhausting power grid tech firms seeking mi...           0.9984   \n",
            "19  prime minister justin trudeau said developing ...           0.9975   \n",
            "20  december min readais climate impact goes beyon...           0.9910   \n",
            "21  read full articlecbcalberta wants build huge d...           0.9989   \n",
            "\n",
            "   sentiment_label  \n",
            "0          Neutral  \n",
            "1         Negative  \n",
            "2         Positive  \n",
            "3         Positive  \n",
            "4         Positive  \n",
            "5         Positive  \n",
            "6         Positive  \n",
            "7         Positive  \n",
            "8         Positive  \n",
            "9         Positive  \n",
            "10        Positive  \n",
            "11        Positive  \n",
            "12        Positive  \n",
            "13        Positive  \n",
            "14        Positive  \n",
            "15        Positive  \n",
            "16        Positive  \n",
            "17        Positive  \n",
            "18        Positive  \n",
            "19        Positive  \n",
            "20        Positive  \n",
            "21        Positive  \n"
          ]
        }
      ]
    },
    {
      "cell_type": "code",
      "source": [
        "print(df[['url', 'vader_sentiment', 'sentiment_label']])  #did this to compare manually if the sentiment was realistic"
      ],
      "metadata": {
        "colab": {
          "base_uri": "https://localhost:8080/"
        },
        "id": "goMLKU3RDvib",
        "outputId": "330cf004-bc40-4218-aab0-2487c682bb7a"
      },
      "execution_count": 48,
      "outputs": [
        {
          "output_type": "stream",
          "name": "stdout",
          "text": [
            "                                                  url  vader_sentiment  \\\n",
            "0   https://www.brookings.edu/articles/how-artific...           0.0000   \n",
            "1   https://www.theguardian.com/environment/2025/f...          -0.2591   \n",
            "2   https://news.mit.edu/2025/explained-generative...           0.9980   \n",
            "3   https://www.cnn.com/2024/07/03/tech/google-ai-...           0.9843   \n",
            "4      https://www.bbc.com/news/articles/c51yvz51k2xo           0.9815   \n",
            "5   https://www.theguardian.com/commentisfree/2023...           0.5921   \n",
            "6   https://www.theguardian.com/technology/article...           0.9941   \n",
            "7   https://medium.com/towards-data-science/enviro...           0.9984   \n",
            "8   https://novaqore.medium.com/the-hidden-cost-of...           0.9965   \n",
            "9   https://www.bbc.com/news/science-environment-6...           0.9957   \n",
            "10  https://www.forbes.com/sites/cindygordon/2024/...           0.3818   \n",
            "11  https://www.techtarget.com/searchDataCenter/fe...           0.9991   \n",
            "12  https://blog.emb.global/ai-energy-consumption-...           0.9999   \n",
            "13  https://climate.mit.edu/ask-mit/ais-energy-use...           0.9995   \n",
            "14  https://www.lse.ac.uk/granthaminstitute/explai...           0.9988   \n",
            "15  https://www.nature.com/articles/s42256-020-0219-9           0.9678   \n",
            "16  https://planetdetroit.org/2024/10/ai-energy-ca...           0.9986   \n",
            "17  https://www.snopes.com/news/2025/01/16/ai-envi...           0.9972   \n",
            "18  https://www.eolianenergy.com/press/ai-is-exhau...           0.9984   \n",
            "19  https://globalnews.ca/news/11011068/trudeau-pa...           0.9975   \n",
            "20  https://www.scientificamerican.com/article/ais...           0.9910   \n",
            "21  https://ca.news.yahoo.com/alberta-wants-build-...           0.9989   \n",
            "\n",
            "   sentiment_label  \n",
            "0          Neutral  \n",
            "1         Negative  \n",
            "2         Positive  \n",
            "3         Positive  \n",
            "4         Positive  \n",
            "5         Positive  \n",
            "6         Positive  \n",
            "7         Positive  \n",
            "8         Positive  \n",
            "9         Positive  \n",
            "10        Positive  \n",
            "11        Positive  \n",
            "12        Positive  \n",
            "13        Positive  \n",
            "14        Positive  \n",
            "15        Positive  \n",
            "16        Positive  \n",
            "17        Positive  \n",
            "18        Positive  \n",
            "19        Positive  \n",
            "20        Positive  \n",
            "21        Positive  \n"
          ]
        }
      ]
    },
    {
      "cell_type": "markdown",
      "source": [
        "#TRYING SENTIMENT ANALYSIS USING TEXTBLOB"
      ],
      "metadata": {
        "id": "hnqU6xeSFtud"
      }
    },
    {
      "cell_type": "code",
      "source": [
        "from textblob import TextBlob\n",
        "\n",
        "def get_sentiment(text):\n",
        "    return TextBlob(text).sentiment.polarity  # Polarity ranges from -1 (negative) to 1 (positive)\n",
        "\n",
        "df['sentiment'] = df['cleaned_content'].apply(get_sentiment)\n",
        "\n",
        "print(df[['cleaned_content', 'sentiment']])  # Show results\n"
      ],
      "metadata": {
        "colab": {
          "base_uri": "https://localhost:8080/"
        },
        "id": "RvbJlIuwEr7W",
        "outputId": "93514448-82a3-4786-ab49-cf25fbbaf164"
      },
      "execution_count": 51,
      "outputs": [
        {
          "output_type": "stream",
          "name": "stdout",
          "text": [
            "                                      cleaned_content  sentiment\n",
            "0   us foreign assistance data must stay public ca...  -0.062500\n",
            "1   one tipping point thought high risk triggered ...   0.094778\n",
            "2   rapid development deployment powerful generati...   0.031515\n",
            "3   google bay view campus mountain view californi...  -0.010639\n",
            "4   ai drives increase google emissions july imran...   0.051770\n",
            "5   carbon footprint server farms used power gener...   0.121571\n",
            "6   ai unlock significant decarbonisation opportun...   0.123750\n",
            "7   environmental implications ai boomthe digital ...   0.074978\n",
            "8   hidden cost ai environmental impact sustainabl...   0.088253\n",
            "9   ai stop water pollution happens june jonah fis...   0.037945\n",
            "10  water resource rapidly depleting ai accelerati...   0.100845\n",
            "11  putilovdenis stockadobecom feature article par...   0.052203\n",
            "12  technology ai energy consumption ecoimpact sus...   0.104555\n",
            "13  question ask us ask mit climateis ais energy u...   0.096667\n",
            "14  home explainers international action climate c...   0.096138\n",
            "15  news feature published august carbon impact ar...  -0.070013\n",
            "16  tension ai climate growing google data center ...   0.127895\n",
            "17  training using artificial intelligence consume...   0.037204\n",
            "18  ai exhausting power grid tech firms seeking mi...   0.004441\n",
            "19  prime minister justin trudeau said developing ...   0.018302\n",
            "20  december min readais climate impact goes beyon...   0.094927\n",
            "21  read full articlecbcalberta wants build huge d...   0.101895\n"
          ]
        }
      ]
    }
  ]
}